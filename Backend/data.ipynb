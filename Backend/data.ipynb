{
 "cells": [
  {
   "cell_type": "code",
   "execution_count": 1,
   "id": "f67f3e1c",
   "metadata": {},
   "outputs": [],
   "source": [
    "import pandas as pd\n",
    "import numpy as np"
   ]
  },
  {
   "cell_type": "code",
   "execution_count": 6,
   "id": "c1ea2cbe",
   "metadata": {},
   "outputs": [],
   "source": [
    "data=pd.read_csv(r'C:\\Users\\Vandan Patel\\Desktop\\trip planner\\Ai-Trip-Planner\\Backend\\trip_planner.packages.csv')"
   ]
  },
  {
   "cell_type": "code",
   "execution_count": 7,
   "id": "d4d5e525",
   "metadata": {},
   "outputs": [
    {
     "data": {
      "application/vnd.microsoft.datawrangler.viewer.v0+json": {
       "columns": [
        {
         "name": "index",
         "rawType": "int64",
         "type": "integer"
        },
        {
         "name": "name",
         "rawType": "object",
         "type": "string"
        },
        {
         "name": "category",
         "rawType": "object",
         "type": "string"
        },
        {
         "name": "highlights",
         "rawType": "object",
         "type": "string"
        },
        {
         "name": "duration",
         "rawType": "int64",
         "type": "integer"
        },
        {
         "name": "price",
         "rawType": "int64",
         "type": "integer"
        }
       ],
       "conversionMethod": "pd.DataFrame",
       "ref": "aee52b0f-88b9-4edf-a337-eacc3c3d9b30",
       "rows": [
        [
         "0",
         "Kerala Backwater Delight",
         "Nature",
         "Houseboat Cruise Kerala Tea Gardens",
         "6",
         "35000"
        ],
        [
         "1",
         "Amritsar Golden Temple Tour",
         "spiritual",
         "Golden Temple Jallianwala Bagh Wagah Border",
         "3",
         "7000"
        ],
        [
         "2",
         "Spiti Valley Road Trip",
         "Adventure",
         "Tabo Monastery Chandratal Lake",
         "6",
         "30000"
        ],
        [
         "3",
         "Hampi Heritage Site",
         "Heritage",
         "Virupaksha Temple Vittala Temple",
         "4",
         "11000"
        ],
        [
         "4",
         "Bangalore Tech Tour",
         "Cultural",
         "Vidhana Soudha Lalbagh Botanical Gardens",
         "2",
         "6000"
        ],
        [
         "5",
         "Mysore and Coorg Coffee Tour",
         "Nature",
         "Mysore Palace Coffee Plantations Abbey Falls",
         "5",
         "20000"
        ],
        [
         "6",
         "Rajasthan Desert Camping",
         "Adventure",
         "Desert Safari Sand Dunes Camel Ride",
         "4",
         "15000"
        ],
        [
         "7",
         "Chandigarh Rose Garden Tour",
         "Cultural",
         "Rose Garden Rock Garden Sukhna Lake",
         "3",
         "7000"
        ],
        [
         "8",
         "Trimbakeshwar and Nashik",
         "spiritual",
         "Trimbakeshwar Temple, Panchavati, Saptashrungi",
         "4",
         "10000"
        ],
        [
         "9",
         "Coorg Coffee Plantation Retreat",
         "Nature",
         "Coffee Estate Abbey Falls Raja's Seat",
         "5",
         "20000"
        ],
        [
         "10",
         "Goa Sunset Cruise",
         "Beach",
         "Sunset Cruise Water Sports",
         "3",
         "10000"
        ],
        [
         "11",
         "Ranthambore Wildlife Safari",
         "Nature",
         "Tiger Safari Ranthambore Fort",
         "4",
         "25000"
        ],
        [
         "12",
         "Chennai Temples and Beaches",
         "Cultural",
         "Marina Beach Kapaleeshwarar Temple",
         "3",
         "9000"
        ],
        [
         "13",
         "Nainital Lake Tour",
         "Nature",
         "Naini Lake Naina Devi Temple Tiffin Top",
         "4",
         "13000"
        ],
        [
         "14",
         "Auli Skiing Adventure",
         "Adventure",
         "Skiing Snow Trek",
         "5",
         "20000"
        ],
        [
         "15",
         "Char Dham Yatra",
         "spiritual",
         "Yamunotri Gangotri Kedarnath Badrinath",
         "12",
         "35000"
        ],
        [
         "16",
         "Omkareshwar and Mandhata",
         "spiritual",
         "Omkareshwar Temple, Mandhata Island",
         "3",
         "9000"
        ],
        [
         "17",
         "Vaikom and Ettumanoor Temple",
         "spiritual",
         "Vaikom Mahadeva Temple, Ettumanoor Temple",
         "3",
         "8000"
        ],
        [
         "18",
         "Bodh Gaya and Varanasi",
         "spiritual",
         "Mahabodhi Temple, Kashi Vishwanath Temple",
         "6",
         "18000"
        ],
        [
         "19",
         "Kedarnath and Amarnath",
         "spiritual",
         "Kedarnath Temple, Amarnath Cave",
         "9",
         "22000"
        ],
        [
         "20",
         "Alleppey Houseboat Experience",
         "Nature",
         "Backwaters Kerala Houseboat Cruise",
         "3",
         "22000"
        ],
        [
         "21",
         "Pondicherry Beach Escape",
         "Beach",
         "Auroville Promenade Beach",
         "3",
         "12000"
        ],
        [
         "22",
         "Mount Abu Hill Station Tour",
         "Nature",
         "Dilwara Temples Nakki Lake",
         "4",
         "14000"
        ],
        [
         "23",
         "Mysore Palace Tour",
         "Cultural",
         "Mysore Palace Chamundi Hill",
         "3",
         "8000"
        ],
        [
         "24",
         "Kanha National Park Safari",
         "Nature",
         "Tiger Safari Kanha Jungle Safari",
         "5",
         "25000"
        ],
        [
         "25",
         "Varkala Beach and Cliff Tour",
         "Beach",
         "Varkala Cliff Papanasam Beach",
         "3",
         "10000"
        ],
        [
         "26",
         "Chennai Marina Beach and Temples",
         "Cultural",
         "Marina Beach Kapaleeshwarar Temple",
         "3",
         "9000"
        ],
        [
         "27",
         "12 Jyotirlinga Tour",
         "spiritual",
         "Somnath, Dwarka, Baidyanath, Kashi Vishwanath, Mahakaleshwar, Omkareshwar, Bhimashankar, Trimbakeshwar, Kedarnath, Rameswar, Nageshwar, Grishneshwar",
         "15",
         "60000"
        ],
        [
         "28",
         "Kedarnath and Badrinath",
         "spiritual",
         "Kedarnath Temple, Badrinath Temple, Mana Village",
         "6",
         "18000"
        ],
        [
         "29",
         "Kashi Vishwanath and Sarnath",
         "spiritual",
         "Kashi Vishwanath Temple, Sarnath Buddhist Temple",
         "3",
         "8000"
        ],
        [
         "30",
         "Dwarkadhish and Somnath Pilgrimage",
         "spiritual",
         "Dwarkadhish Temple, Somnath Temple",
         "5",
         "14000"
        ],
        [
         "31",
         "Gangotri and Yamunotri",
         "spiritual",
         "Gangotri Temple, Yamunotri Temple",
         "6",
         "16000"
        ],
        [
         "32",
         "Kashmir Valley Tour",
         "Nature",
         "Dal Lake Gulmarg Sonamarg",
         "5",
         "30000"
        ],
        [
         "33",
         "Sikkim Mountain Adventure",
         "Adventure",
         "Kanchenjunga Viewpoint Tsongmo Lake",
         "6",
         "22000"
        ],
        [
         "34",
         "Tirupati Pilgrimage",
         "spiritual",
         "Tirumala Temple Holy Shrines",
         "2",
         "5000"
        ],
        [
         "35",
         "Rajasthan Desert Safari",
         "Adventure",
         "Camel Ride Jaisalmer Fort Sam Sand Dunes",
         "4",
         "15000"
        ],
        [
         "36",
         "Darjeeling Tea Gardens Tour",
         "Nature",
         "Tea Gardens Tiger Hill Batasia Loop",
         "4",
         "18000"
        ],
        [
         "37",
         "Sula Vineyards Wine Tour",
         "Cultural",
         "Wine Tasting Sula Vineyards Nashik",
         "2",
         "5000"
        ],
        [
         "38",
         "Tirupati Balaji Darshan",
         "spiritual",
         "Tirumala Temple, Akhilandeshwari Temple",
         "2",
         "7000"
        ],
        [
         "39",
         "Kailash Mansarovar Yatra",
         "spiritual",
         "Kailash Mountain, Mansarovar Lake",
         "15",
         "70000"
        ],
        [
         "40",
         "Patna and Nalanda Buddhist Circuit",
         "spiritual",
         "Nalanda University, Bodh Gaya, Mahabodhi Temple",
         "6",
         "15000"
        ],
        [
         "41",
         "Bikaner Camel Safari",
         "Adventure",
         "Camel Safari Junagarh Fort Gajner Palace",
         "4",
         "12000"
        ],
        [
         "42",
         "Cherrapunji Living Root Bridge Trek",
         "Adventure",
         "Living Root Bridges Nohkalikai Falls",
         "5",
         "15000"
        ],
        [
         "43",
         "Gulmarg Skiing Adventure",
         "Adventure",
         "Skiing Gondola Ride",
         "5",
         "25000"
        ],
        [
         "44",
         "Rishikesh Rafting and Bungee",
         "Adventure",
         "Rafting Bungee Jumping",
         "4",
         "15000"
        ],
        [
         "45",
         "Mysore and Srirangapatna",
         "Heritage",
         "Mysore Palace, Ranganathaswamy Temple",
         "4",
         "10000"
        ],
        [
         "46",
         "Tirumala and Tirupati",
         "spiritual",
         "Tirumala Temple, Sri Venkateswara Temple",
         "3",
         "10000"
        ],
        [
         "47",
         "Manali Adventure Trek",
         "Adventure",
         "Paragliding River Rafting Snow Trek",
         "5",
         "15000"
        ],
        [
         "48",
         "Goa Beach Fun",
         "Beach",
         "Nightlife Beaches Water Sports",
         "4",
         "20000"
        ],
        [
         "49",
         "Chopta Trekking Expedition",
         "Adventure",
         "Trekking Chopta Chandrashila Peak",
         "5",
         "15000"
        ]
       ],
       "shape": {
        "columns": 5,
        "rows": 121
       }
      },
      "text/html": [
       "<div>\n",
       "<style scoped>\n",
       "    .dataframe tbody tr th:only-of-type {\n",
       "        vertical-align: middle;\n",
       "    }\n",
       "\n",
       "    .dataframe tbody tr th {\n",
       "        vertical-align: top;\n",
       "    }\n",
       "\n",
       "    .dataframe thead th {\n",
       "        text-align: right;\n",
       "    }\n",
       "</style>\n",
       "<table border=\"1\" class=\"dataframe\">\n",
       "  <thead>\n",
       "    <tr style=\"text-align: right;\">\n",
       "      <th></th>\n",
       "      <th>name</th>\n",
       "      <th>category</th>\n",
       "      <th>highlights</th>\n",
       "      <th>duration</th>\n",
       "      <th>price</th>\n",
       "    </tr>\n",
       "  </thead>\n",
       "  <tbody>\n",
       "    <tr>\n",
       "      <th>0</th>\n",
       "      <td>Kerala Backwater Delight</td>\n",
       "      <td>Nature</td>\n",
       "      <td>Houseboat Cruise Kerala Tea Gardens</td>\n",
       "      <td>6</td>\n",
       "      <td>35000</td>\n",
       "    </tr>\n",
       "    <tr>\n",
       "      <th>1</th>\n",
       "      <td>Amritsar Golden Temple Tour</td>\n",
       "      <td>spiritual</td>\n",
       "      <td>Golden Temple Jallianwala Bagh Wagah Border</td>\n",
       "      <td>3</td>\n",
       "      <td>7000</td>\n",
       "    </tr>\n",
       "    <tr>\n",
       "      <th>2</th>\n",
       "      <td>Spiti Valley Road Trip</td>\n",
       "      <td>Adventure</td>\n",
       "      <td>Tabo Monastery Chandratal Lake</td>\n",
       "      <td>6</td>\n",
       "      <td>30000</td>\n",
       "    </tr>\n",
       "    <tr>\n",
       "      <th>3</th>\n",
       "      <td>Hampi Heritage Site</td>\n",
       "      <td>Heritage</td>\n",
       "      <td>Virupaksha Temple Vittala Temple</td>\n",
       "      <td>4</td>\n",
       "      <td>11000</td>\n",
       "    </tr>\n",
       "    <tr>\n",
       "      <th>4</th>\n",
       "      <td>Bangalore Tech Tour</td>\n",
       "      <td>Cultural</td>\n",
       "      <td>Vidhana Soudha Lalbagh Botanical Gardens</td>\n",
       "      <td>2</td>\n",
       "      <td>6000</td>\n",
       "    </tr>\n",
       "    <tr>\n",
       "      <th>...</th>\n",
       "      <td>...</td>\n",
       "      <td>...</td>\n",
       "      <td>...</td>\n",
       "      <td>...</td>\n",
       "      <td>...</td>\n",
       "    </tr>\n",
       "    <tr>\n",
       "      <th>116</th>\n",
       "      <td>Brahma Temple Pushkar</td>\n",
       "      <td>spiritual</td>\n",
       "      <td>Brahma Temple, Pushkar Lake</td>\n",
       "      <td>3</td>\n",
       "      <td>7000</td>\n",
       "    </tr>\n",
       "    <tr>\n",
       "      <th>117</th>\n",
       "      <td>Kodaikanal Hill Station Tour</td>\n",
       "      <td>Nature</td>\n",
       "      <td>Coaker's Walk Bryant Park</td>\n",
       "      <td>4</td>\n",
       "      <td>16000</td>\n",
       "    </tr>\n",
       "    <tr>\n",
       "      <th>118</th>\n",
       "      <td>Madurai Temple Tour</td>\n",
       "      <td>Heritage</td>\n",
       "      <td>Meenakshi Temple Thirumalai Nayakkar Mahal</td>\n",
       "      <td>3</td>\n",
       "      <td>7000</td>\n",
       "    </tr>\n",
       "    <tr>\n",
       "      <th>119</th>\n",
       "      <td>Tiruchirappalli Temples Tour</td>\n",
       "      <td>Heritage</td>\n",
       "      <td>Sri Ranganathaswamy Temple Rock Fort Temple</td>\n",
       "      <td>2</td>\n",
       "      <td>6000</td>\n",
       "    </tr>\n",
       "    <tr>\n",
       "      <th>120</th>\n",
       "      <td>Dwarka and Somnath Pilgrimage</td>\n",
       "      <td>spiritual</td>\n",
       "      <td>Dwarkadhish Temple, Somnath Temple, Rukmini Te...</td>\n",
       "      <td>5</td>\n",
       "      <td>15000</td>\n",
       "    </tr>\n",
       "  </tbody>\n",
       "</table>\n",
       "<p>121 rows × 5 columns</p>\n",
       "</div>"
      ],
      "text/plain": [
       "                              name   category  \\\n",
       "0         Kerala Backwater Delight     Nature   \n",
       "1      Amritsar Golden Temple Tour  spiritual   \n",
       "2           Spiti Valley Road Trip  Adventure   \n",
       "3              Hampi Heritage Site   Heritage   \n",
       "4              Bangalore Tech Tour   Cultural   \n",
       "..                             ...        ...   \n",
       "116          Brahma Temple Pushkar  spiritual   \n",
       "117   Kodaikanal Hill Station Tour     Nature   \n",
       "118            Madurai Temple Tour   Heritage   \n",
       "119   Tiruchirappalli Temples Tour   Heritage   \n",
       "120  Dwarka and Somnath Pilgrimage  spiritual   \n",
       "\n",
       "                                            highlights  duration  price  \n",
       "0                  Houseboat Cruise Kerala Tea Gardens         6  35000  \n",
       "1          Golden Temple Jallianwala Bagh Wagah Border         3   7000  \n",
       "2                       Tabo Monastery Chandratal Lake         6  30000  \n",
       "3                     Virupaksha Temple Vittala Temple         4  11000  \n",
       "4             Vidhana Soudha Lalbagh Botanical Gardens         2   6000  \n",
       "..                                                 ...       ...    ...  \n",
       "116                        Brahma Temple, Pushkar Lake         3   7000  \n",
       "117                          Coaker's Walk Bryant Park         4  16000  \n",
       "118         Meenakshi Temple Thirumalai Nayakkar Mahal         3   7000  \n",
       "119        Sri Ranganathaswamy Temple Rock Fort Temple         2   6000  \n",
       "120  Dwarkadhish Temple, Somnath Temple, Rukmini Te...         5  15000  \n",
       "\n",
       "[121 rows x 5 columns]"
      ]
     },
     "execution_count": 7,
     "metadata": {},
     "output_type": "execute_result"
    }
   ],
   "source": [
    "data"
   ]
  },
  {
   "cell_type": "code",
   "execution_count": 4,
   "id": "77ea948f",
   "metadata": {},
   "outputs": [
    {
     "data": {
      "text/plain": [
       "(110, 8)"
      ]
     },
     "execution_count": 4,
     "metadata": {},
     "output_type": "execute_result"
    }
   ],
   "source": [
    "data.shape"
   ]
  },
  {
   "cell_type": "code",
   "execution_count": null,
   "id": "f85521e1",
   "metadata": {},
   "outputs": [],
   "source": []
  }
 ],
 "metadata": {
  "kernelspec": {
   "display_name": "base",
   "language": "python",
   "name": "python3"
  },
  "language_info": {
   "codemirror_mode": {
    "name": "ipython",
    "version": 3
   },
   "file_extension": ".py",
   "mimetype": "text/x-python",
   "name": "python",
   "nbconvert_exporter": "python",
   "pygments_lexer": "ipython3",
   "version": "3.12.7"
  }
 },
 "nbformat": 4,
 "nbformat_minor": 5
}
